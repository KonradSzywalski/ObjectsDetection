{
 "cells": [
  {
   "cell_type": "code",
   "execution_count": 6,
   "metadata": {},
   "outputs": [],
   "source": [
    "import numpy as np\n",
    "import cv2 \n",
    "import time\n",
    "import matplotlib.pyplot as plt\n",
    "from skimage.feature import canny\n",
    "from scipy import ndimage as ndi\n",
    "from skimage.morphology import erosion, dilation, square\n",
    "\n",
    "cap = cv2.VideoCapture('detekcja_ruchu.mp4')\n",
    "\n",
    "def diffImg(t0, t1, t2):\n",
    "    d1 = cv2.absdiff(t2, t1)\n",
    "    d2 = cv2.absdiff(t1, t0)\n",
    "    return cv2.bitwise_or(d1, d2)              \n",
    "\n",
    "t_minus = cv2.cvtColor(cap.read()[1], cv2.COLOR_RGB2GRAY)\n",
    "t = cv2.cvtColor(cap.read()[1], cv2.COLOR_RGB2GRAY)\n",
    "t_plus = cv2.cvtColor(cap.read()[1], cv2.COLOR_RGB2GRAY)\n",
    "\n",
    "while(cap.isOpened()):\n",
    "    ret, frame = cap.read()\n",
    "    if ret==True: \n",
    "        \n",
    "        t_minus = t\n",
    "        t = t_plus\n",
    "        t_plus = cv2.cvtColor(cap.read()[1], cv2.COLOR_RGB2GRAY)\n",
    "        \n",
    "        diff = cv2.cvtColor(diffImg(t_minus,t ,t_plus),cv2.COLOR_GRAY2RGB)  \n",
    "        diff_binary = cv2.threshold(diff, 25, 25, cv2.THRESH_BINARY)[1]\n",
    "        \n",
    "        keke = cv2.erode(diff_binary, None, iterations=2)\n",
    "        \n",
    "        edges_tryied = cv2.Canny(keke,1,1)\n",
    "        edges_tryied = cv2.dilate(edges_tryied, None, iterations=90)\n",
    "        edges_tryied = cv2.erode(edges_tryied, None, iterations=90)    \n",
    "        edges_tryied = cv2.Canny(edges_tryied,1,1)\n",
    "        edges_tryied = cv2.dilate(edges_tryied, None, iterations=1)\n",
    "        edges_tryied = cv2.cvtColor(edges_tryied ,cv2.COLOR_GRAY2RGB)\n",
    "            \n",
    "        out = np.bitwise_or(frame, edges_tryied)\n",
    "    \n",
    "        \n",
    "        cv2.imshow('Konrad Szywalski detakcja ruchu', out) \n",
    "        if cv2.waitKey(1) & 0xFF == ord('q'):\n",
    "            break\n",
    "    else:\n",
    "        break\n",
    "\n",
    "cap.release()\n",
    "cv2.destroyAllWindows()"
   ]
  },
  {
   "cell_type": "code",
   "execution_count": null,
   "metadata": {},
   "outputs": [],
   "source": []
  },
  {
   "cell_type": "code",
   "execution_count": null,
   "metadata": {},
   "outputs": [],
   "source": []
  },
  {
   "cell_type": "code",
   "execution_count": null,
   "metadata": {},
   "outputs": [],
   "source": []
  },
  {
   "cell_type": "code",
   "execution_count": null,
   "metadata": {},
   "outputs": [],
   "source": []
  }
 ],
 "metadata": {
  "kernelspec": {
   "display_name": "Python 3",
   "language": "python",
   "name": "python3"
  },
  "language_info": {
   "codemirror_mode": {
    "name": "ipython",
    "version": 3
   },
   "file_extension": ".py",
   "mimetype": "text/x-python",
   "name": "python",
   "nbconvert_exporter": "python",
   "pygments_lexer": "ipython3",
   "version": "3.7.9"
  }
 },
 "nbformat": 4,
 "nbformat_minor": 2
}
