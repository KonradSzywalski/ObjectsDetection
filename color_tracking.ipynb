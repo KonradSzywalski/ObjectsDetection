{
 "cells": [
  {
   "cell_type": "code",
   "execution_count": 4,
   "metadata": {},
   "outputs": [],
   "source": [
    "import numpy as np\n",
    "import cv2 \n",
    "import time\n",
    "from skimage.feature import canny\n",
    "from scipy import ndimage as ndi\n",
    "from skimage.morphology import erosion, dilation, square\n",
    "\n",
    "cap = cv2.VideoCapture('detekcja_koloru.mp4')\n",
    "greenLower = (40, 85, 40)\n",
    "greenUpper = (72,255,355)\n",
    "\n",
    "def change_color(img):\n",
    "    for i in range(kolor.shape[0]):\n",
    "            for j in range(kolor.shape[1]):\n",
    "                kolor[i,j,0] = 0\n",
    "\n",
    "while(cap.isOpened()):\n",
    "    ret, frame = cap.read()\n",
    "    if ret==True:\n",
    "        blurred = cv2.GaussianBlur(frame, (9,9), 0)\n",
    "        hsv = cv2.cvtColor(blurred, cv2.COLOR_BGR2HSV)\n",
    "        mask = cv2.inRange(hsv, greenLower, greenUpper)\n",
    "        mask = cv2.erode(mask, None, iterations=3)\n",
    "        mask = cv2.dilate(mask, None, iterations=3)\n",
    "        edges = cv2.Canny(mask,1,1)\n",
    "        kolor = cv2.cvtColor(edges,cv2.COLOR_GRAY2RGB)\n",
    "        kolor = cv2.dilate(kolor, None, iterations=1)\n",
    "        out = np.bitwise_or(frame, kolor)        \n",
    "        cv2.imshow('Konrad Szywalski tracking obiektu po kolorze', out)                         \n",
    "        if cv2.waitKey(1) & 0xFF == ord('q'):\n",
    "            break\n",
    "    else:\n",
    "        break\n",
    "\n",
    "cap.release()\n",
    "cv2.destroyAllWindows()"
   ]
  },
  {
   "cell_type": "code",
   "execution_count": null,
   "metadata": {},
   "outputs": [],
   "source": []
  }
 ],
 "metadata": {
  "kernelspec": {
   "display_name": "Python 3",
   "language": "python",
   "name": "python3"
  },
  "language_info": {
   "codemirror_mode": {
    "name": "ipython",
    "version": 3
   },
   "file_extension": ".py",
   "mimetype": "text/x-python",
   "name": "python",
   "nbconvert_exporter": "python",
   "pygments_lexer": "ipython3",
   "version": "3.7.9"
  }
 },
 "nbformat": 4,
 "nbformat_minor": 2
}
